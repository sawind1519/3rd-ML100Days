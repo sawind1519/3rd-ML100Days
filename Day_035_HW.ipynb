{
 "cells": [
  {
   "cell_type": "markdown",
   "metadata": {},
   "source": [
    "## 練習時間\n",
    "相信大家對回歸問題及分類問題都有初步的了解。今天的作業希望大家搜尋有關 multi-label 的案例問題。下圖是電影 \"奇異博士\" 的分類。可以看到同時有 \"Action\", \"Adventure\", \"Fantasy\" 的類別存在，代表這是個多標籤的問題。 "
   ]
  },
  {
   "cell_type": "markdown",
   "metadata": {},
   "source": [
    "![image](https://cdn-images-1.medium.com/max/1000/1*r0gYXMSQf5VhdMyl2bRDyg.png)"
   ]
  },
  {
   "cell_type": "markdown",
   "metadata": {},
   "source": [
    "## 請搜尋目標為多標籤問題 (Multi-label) 的機器學習案例，了解其資料來源、目標以及評估指標為何\n",
    "## Hint: 服飾"
   ]
  },
  {
   "cell_type": "markdown",
   "metadata": {},
   "source": [
    "案例:steam遊戲\n",
    "資料來源:steam store與steamspy API\n",
    "目標:2005年熱銷遊戲\n",
    "評估指標:\n",
    "名稱應用標題（遊戲）\n",
    "發布日期，格式為YYYY-MM-DD\n",
    "語言支持：如果是英語，則為1\n",
    "開發商開發人員。如果有多個，則以分號分隔\n",
    "發布者的姓名。如果有多個，則以分號分隔\n",
    "平台以分號分隔的受支持平台列表。最多包括：Windows; Mac; Linux\n",
    "分類以分號分隔的遊戲類別列表，例如單人遊戲；多人遊戲\n",
    "體裁以分號分隔的遊戲類型列表，例如動作；冒險\n",
    "steamspy_tags以分號分隔的最熱門遊戲標籤的列表，類似於遊戲類型，例如動作\n",
    "正評分好評數，來自SteamSpy\n",
    "negative_ratings負面評分的數量，來自SteamSpy\n",
    "平均播放時間平均用戶播放時間，來自SteamSpy\n",
    "價錢圖書的當前全價（英鎊）（英鎊）"
   ]
  }
 ],
 "metadata": {
  "kernelspec": {
   "display_name": "Python 3",
   "language": "python",
   "name": "python3"
  },
  "language_info": {
   "codemirror_mode": {
    "name": "ipython",
    "version": 3
   },
   "file_extension": ".py",
   "mimetype": "text/x-python",
   "name": "python",
   "nbconvert_exporter": "python",
   "pygments_lexer": "ipython3",
   "version": "3.7.4"
  }
 },
 "nbformat": 4,
 "nbformat_minor": 4
}
